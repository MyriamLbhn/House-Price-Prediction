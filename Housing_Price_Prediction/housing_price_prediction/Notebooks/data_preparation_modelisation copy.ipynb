{
 "cells": [
  {
   "cell_type": "code",
   "execution_count": 24,
   "metadata": {},
   "outputs": [],
   "source": [
    "import pandas as pd\n",
    "from sklearn.model_selection import train_test_split\n",
    "from sklearn import linear_model\n",
    "from sklearn.neighbors import KNeighborsRegressor\n",
    "import warnings\n",
    "warnings.filterwarnings('ignore')\n",
    "import json # will be needed for saving preprocessing details\n",
    "from sklearn.preprocessing import LabelEncoder # for preprocessing\n",
    "import joblib # for saving algorithm and preprocessing objects\n",
    "\n",
    "\n",
    "pd.set_option('display.max_columns', 30)\n",
    "df=pd.read_csv(\"kc_house_data_clean.csv\")\n"
   ]
  },
  {
   "attachments": {},
   "cell_type": "markdown",
   "metadata": {},
   "source": [
    "## Test sur modèle naif : régression linéaire"
   ]
  },
  {
   "cell_type": "code",
   "execution_count": 25,
   "metadata": {},
   "outputs": [
    {
     "name": "stdout",
     "output_type": "stream",
     "text": [
      "Score modèle naif reg linéaire : 0.6979840506422199\n"
     ]
    }
   ],
   "source": [
    "Xn=df.drop(\"price\", axis=1)\n",
    "yn=df[\"price\"]\n",
    "Xn_train, Xn_test, yn_train, yn_test = train_test_split(Xn, yn, test_size=0.2, random_state=42)\n",
    "\n",
    "modele_naif_reg_lin = linear_model.LinearRegression()\n",
    "modele_naif_reg_lin.fit(Xn_train, yn_train )\n",
    "\n",
    "print(\"Score modèle naif reg linéaire :\", modele_naif_reg_lin.score(Xn_test, yn_test))\n",
    "\n",
    "# Score modèle naif reg linéaire ridge : 0.6979840506422199\n"
   ]
  },
  {
   "cell_type": "code",
   "execution_count": 26,
   "metadata": {},
   "outputs": [],
   "source": [
    "df_score=pd.DataFrame(columns = [\"knn\", \"lasso\", \"ridge\"])"
   ]
  },
  {
   "attachments": {},
   "cell_type": "markdown",
   "metadata": {},
   "source": [
    "## Comparaison des modèles de régression linéaires et knn"
   ]
  },
  {
   "cell_type": "code",
   "execution_count": 27,
   "metadata": {},
   "outputs": [
    {
     "name": "stdout",
     "output_type": "stream",
     "text": [
      "        knn     lasso     ridge\n",
      "0  0.511373  0.697985  0.698023\n"
     ]
    }
   ],
   "source": [
    "modele_naif_lasso = linear_model.Lasso(alpha=1)\n",
    "modele_naif_lasso.fit(Xn_train, yn_train )\n",
    "\n",
    "modele_naif_ridge = linear_model.Ridge(alpha=1)\n",
    "modele_naif_ridge.fit(Xn_train, yn_train )\n",
    "\n",
    "knn_naif = KNeighborsRegressor(n_neighbors=15)\n",
    "knn_naif.fit(Xn_train, yn_train )\n",
    "\n",
    "# scoring sur X_test\n",
    "df_score.loc[0, \"knn\"] = knn_naif.score(Xn_test, yn_test)\n",
    "df_score.loc[0, \"lasso\"] = modele_naif_lasso.score(Xn_test, yn_test)\n",
    "df_score.loc[0, \"ridge\"] = modele_naif_ridge.score(Xn_test, yn_test)\n",
    "\n",
    "print(df_score)\n"
   ]
  },
  {
   "attachments": {},
   "cell_type": "markdown",
   "metadata": {},
   "source": [
    "## Choix des meilleurs hyperparamètres"
   ]
  },
  {
   "cell_type": "code",
   "execution_count": 28,
   "metadata": {},
   "outputs": [
    {
     "name": "stdout",
     "output_type": "stream",
     "text": [
      "0.529476608466635\n",
      "KNeighborsRegressor(n_neighbors=13, weights='distance')\n",
      "{'n_neighbors': 13, 'weights': 'distance'}\n",
      "0.6949046197781066\n",
      "Lasso(alpha=19)\n",
      "{'alpha': 19}\n",
      "0.6949133160021772\n",
      "Ridge(alpha=3)\n",
      "{'alpha': 3}\n"
     ]
    }
   ],
   "source": [
    "from sklearn.model_selection import train_test_split\n",
    "y = df['price']\n",
    "X = df.drop('price', axis=1).drop('sqft_living15', axis=1).drop('sqft_lot15', axis=1)\n",
    "# X = df.drop('sqft_living15', axis = 1)\n",
    "# X =df.drop('sqft_lot15', axis = 1)\n",
    "X_train, X_test, y_train, y_test = train_test_split(X, y, train_size=0.8, random_state=42)\n",
    "\n",
    "from sklearn.model_selection import GridSearchCV\n",
    "\n",
    "#################### KNN #####################################################################################\n",
    "algorithm = KNeighborsRegressor()\n",
    "\n",
    "# Définir une grille de paramètres\n",
    "hp_candidates = [{'n_neighbors': range(20), 'weights': ['uniform','distance']}]\n",
    "\n",
    "# Effectuer une recherche aléatoire sur les hyperparamètres\n",
    "# Search for best hyperparameters\n",
    "grid = GridSearchCV(estimator=algorithm, param_grid=hp_candidates, cv=5, scoring='r2')\n",
    "grid.fit(X, y)\n",
    "\n",
    "best_param_knn = grid.best_params_\n",
    "# Get the results\n",
    "print(grid.best_score_)\n",
    "print(grid.best_estimator_)\n",
    "print(best_param_knn)\n",
    "\n",
    "################################ LASSO ###################################################################################\n",
    "algorithm = linear_model.Lasso()\n",
    "\n",
    "# Définir une grille de paramètres\n",
    "hp_candidates = [{'alpha': range(20)}]\n",
    "\n",
    "# Effectuer une recherche aléatoire sur les hyperparamètres\n",
    "# Search for best hyperparameters\n",
    "grid = GridSearchCV(estimator=algorithm, param_grid=hp_candidates, cv=5, scoring='r2')\n",
    "grid.fit(X, y)\n",
    "\n",
    "best_param_lasso = grid.best_params_\n",
    "# Get the results\n",
    "print(grid.best_score_)\n",
    "print(grid.best_estimator_)\n",
    "print(best_param_lasso)\n",
    "\n",
    "############################### RIDGE  ######################################################################################\n",
    "algorithm = linear_model.Ridge()\n",
    "\n",
    "# Définir une grille de paramètres\n",
    "hp_candidates = [{'alpha': range(20)}]\n",
    "\n",
    "# Effectuer une recherche aléatoire sur les hyperparamètres\n",
    "# Search for best hyperparameters\n",
    "grid = GridSearchCV(estimator=algorithm, param_grid=hp_candidates, cv=5, scoring='r2')\n",
    "grid.fit(X, y)\n",
    "\n",
    "best_param_ridge = grid.best_params_\n",
    "# Get the results\n",
    "print(grid.best_score_)\n",
    "print(grid.best_estimator_)\n",
    "print(best_param_ridge)\n",
    "\n"
   ]
  },
  {
   "attachments": {},
   "cell_type": "markdown",
   "metadata": {},
   "source": [
    "## Création des pipelines"
   ]
  },
  {
   "cell_type": "code",
   "execution_count": 29,
   "metadata": {},
   "outputs": [],
   "source": [
    "from sklearn.pipeline import Pipeline\n",
    "from sklearn.preprocessing import MinMaxScaler\n",
    "from sklearn.impute import SimpleImputer\n",
    "from sklearn.preprocessing import OneHotEncoder"
   ]
  },
  {
   "cell_type": "markdown",
   "metadata": {},
   "source": [
    "    imputer: cette étape utilise la classe SimpleImputer de Scikit-learn pour remplacer les valeurs manquantes dans les données numériques par la moyenne des valeurs présentes dans la colonne correspondante. La stratégie utilisée est \"mean\", ce qui signifie que la moyenne des valeurs non manquantes dans la colonne est utilisée pour remplacer les valeurs manquantes.\n",
    "\n",
    "    stdscaler: cette étape utilise la classe MinMaxScaler de Scikit-learn pour normaliser les données numériques. La normalisation est effectuée de manière à ce que toutes les valeurs soient ramenées dans la plage [0, 1]. Cette étape est souvent utilisée pour améliorer la stabilité des algorithmes d'apprentissage automatique, tels que la régression, le SVM ou l'ACP."
   ]
  },
  {
   "attachments": {},
   "cell_type": "markdown",
   "metadata": {},
   "source": [
    "### Preprocessing 1 : SimpleImputer, MinMaxScaler, OneHotEncoder"
   ]
  },
  {
   "attachments": {},
   "cell_type": "markdown",
   "metadata": {},
   "source": [
    "#### Pipelines d'entrainement"
   ]
  },
  {
   "cell_type": "code",
   "execution_count": 30,
   "metadata": {},
   "outputs": [],
   "source": [
    "#Pipeline de préprocessing pour les variables numériques\n",
    "numeric_features = [\"sqft_living\",\"sqft_above\", \"sqft_basement\", \"sqft_lot\", \"bathrooms\"]\n",
    "\n",
    "numeric_transformer = Pipeline([\n",
    "        ('imputer', SimpleImputer(strategy='mean')),\n",
    "        ('stdscaler', MinMaxScaler()),  # moyenne nulle et écart type = 1 -> Reg, SVM, PCA\n",
    "        ])\n",
    "\n",
    "# Pipeline de pre-processing pour les variables catégorielles\n",
    "categorial_features = [ \"zipcode\", \"floors\", \"view\", \"condition\", \"grade\", \"bedrooms\"]\n",
    "\n",
    "categorical_transformer = OneHotEncoder(sparse=True, handle_unknown='ignore')\n",
    "\n",
    "# a l'aide de la classe ColumnTransformer, \n",
    "# on déclare à quelles variables on applique quel transformer\n",
    "from sklearn.compose import ColumnTransformer\n",
    "preprocessor_1 = ColumnTransformer(\n",
    "    transformers=[\n",
    "        ('num', numeric_transformer, numeric_features),\n",
    "        ('cat', categorical_transformer, categorial_features)\n",
    "    ], remainder=\"passthrough\"\n",
    ")\n",
    "\n",
    "\n",
    "#On obtient un pipeline de preprocessing qu'on peut utiliser dans un pipeline d'entainement\n",
    "knn_1 = KNeighborsRegressor(**best_param_knn)\n",
    "lasso_1 = linear_model.Lasso(**best_param_lasso)\n",
    "ridge_1 = linear_model.Ridge(**best_param_ridge)\n",
    "\n",
    "pipe_knn_1 = Pipeline([\n",
    "     ('prep', preprocessor_1),\n",
    "     ('knn', knn_1)\n",
    "])\n",
    "\n",
    "pipe_lasso_1 = Pipeline([\n",
    "     ('prep', preprocessor_1),\n",
    "     ('lasso', lasso_1)\n",
    "])\n",
    "\n",
    "pipe_ridge_1 = Pipeline([\n",
    "     ('prep', preprocessor_1),\n",
    "     ('ridge', ridge_1)\n",
    "])"
   ]
  },
  {
   "attachments": {},
   "cell_type": "markdown",
   "metadata": {},
   "source": [
    "#### Entrainement "
   ]
  },
  {
   "cell_type": "code",
   "execution_count": 31,
   "metadata": {},
   "outputs": [],
   "source": [
    "# Entrainement sur X_train\n",
    "trained_pipe_knn_1 = pipe_knn_1.fit(X_train,y_train)\n",
    "trained_pipe_lasso_1 = pipe_lasso_1.fit(X_train,y_train)\n",
    "trained_pipe_ridge_1 = pipe_ridge_1.fit(X_train,y_train)"
   ]
  },
  {
   "attachments": {},
   "cell_type": "markdown",
   "metadata": {},
   "source": [
    "#### Score"
   ]
  },
  {
   "cell_type": "code",
   "execution_count": 32,
   "metadata": {},
   "outputs": [
    {
     "name": "stdout",
     "output_type": "stream",
     "text": [
      "        knn     lasso     ridge\n",
      "0  0.511373  0.697985  0.698023\n",
      "1  0.537581  0.841808  0.835541\n"
     ]
    }
   ],
   "source": [
    "# scoring sur X_test\n",
    "df_score.loc[1, \"knn\"] = trained_pipe_knn_1.score(X_test, y_test)\n",
    "df_score.loc[1, \"lasso\"] = trained_pipe_lasso_1.score(X_test, y_test)\n",
    "df_score.loc[1, \"ridge\"] = trained_pipe_ridge_1.score(X_test, y_test)\n",
    "\n",
    "print(df_score)"
   ]
  },
  {
   "attachments": {},
   "cell_type": "markdown",
   "metadata": {},
   "source": [
    "### Preprocessing 2 : OneHotEncoder only"
   ]
  },
  {
   "cell_type": "code",
   "execution_count": 33,
   "metadata": {},
   "outputs": [
    {
     "name": "stdout",
     "output_type": "stream",
     "text": [
      "        knn     lasso     ridge\n",
      "0  0.511373  0.697985  0.698023\n",
      "1  0.537581  0.841808  0.835541\n",
      "2  0.541929  0.841811  0.537308\n"
     ]
    }
   ],
   "source": [
    "#Pipeline de préprocessing pour les variables catégorielles\n",
    "\n",
    "categorial_features = [ \"zipcode\", \"floors\", \"view\", \"condition\", \"grade\", \"bedrooms\"]\n",
    "\n",
    "categorical_transformer = OneHotEncoder(sparse=True, handle_unknown='ignore')\n",
    "\n",
    "# a l'aide de la classe ColumnTransformer, \n",
    "# on déclare à quelles variables on applique quel transformer\n",
    "from sklearn.compose import ColumnTransformer\n",
    "preprocessor_2 = ColumnTransformer(\n",
    "    transformers=[\n",
    "        ('cat', categorical_transformer, categorial_features)\n",
    "    ], remainder=\"passthrough\"\n",
    ")\n",
    "\n",
    "\n",
    "#On obtient un pipeline de preprocessing qu'on peut utiliser dans un pipeline d'entainement\n",
    "knn_2 = KNeighborsRegressor(**best_param_knn)\n",
    "lasso_2 = linear_model.Lasso(**best_param_lasso)\n",
    "ridge_2 = linear_model.Ridge(**best_param_ridge)\n",
    "\n",
    "pipe_knn_2 = Pipeline([\n",
    "     ('prep', preprocessor_2),\n",
    "     ('knn', knn_2)\n",
    "])\n",
    "\n",
    "pipe_lasso_2 = Pipeline([\n",
    "     ('prep', preprocessor_2),\n",
    "     ('lasso', lasso_2)\n",
    "])\n",
    "\n",
    "pipe_ridge_2 = Pipeline([\n",
    "     ('prep', preprocessor_2),\n",
    "     ('ridge', ridge_2)\n",
    "])\n",
    "\n",
    "# Entrainement sur X_train\n",
    "trained_pipe_knn_2 = pipe_knn_2.fit(X_train,y_train)\n",
    "trained_pipe_lasso_2 = pipe_lasso_2.fit(X_train,y_train)\n",
    "trained_pipe_ridge_2 = pipe_ridge_2.fit(X_train,y_train)\n",
    "\n",
    "#Prediction sur X_test :\n",
    "y_pred_lasso_2 = trained_pipe_lasso_2.predict(X_test)\n",
    "\n",
    "\n",
    "# scoring sur X_test\n",
    "df_score.loc[2, \"knn\"] = trained_pipe_knn_2.score(X_test, y_test)\n",
    "df_score.loc[2, \"lasso\"] = trained_pipe_lasso_2.score(X_test, y_test)\n",
    "df_score.loc[2, \"ridge\"] = trained_pipe_ridge_2.score(X_test, y_test)\n",
    "\n",
    "print(df_score)"
   ]
  },
  {
   "attachments": {},
   "cell_type": "markdown",
   "metadata": {},
   "source": [
    "### Préprocessing 3 : SimpleImputer, MinMaxScaler, OneHotEncoder, VE bed remplacé par un max"
   ]
  },
  {
   "cell_type": "code",
   "execution_count": 34,
   "metadata": {},
   "outputs": [
    {
     "name": "stdout",
     "output_type": "stream",
     "text": [
      "        knn     lasso     ridge\n",
      "0  0.511373  0.697985  0.698023\n",
      "1  0.537581  0.841808  0.835541\n",
      "2  0.541929  0.841811  0.537308\n",
      "3  0.514192  0.841818  0.836475\n"
     ]
    }
   ],
   "source": [
    "from sklearn.preprocessing import FunctionTransformer\n",
    "import numpy as np\n",
    "\n",
    "# Transformer pour remplacer les valeurs extrêmes de la colonne \"bedrooms\" par une valeur max\n",
    "max_value = 11.0 \n",
    "bedrooms_transformer = Pipeline([\n",
    "     ('max_replacer', FunctionTransformer(lambda x: np.where(x > max_value, max_value, x))),\n",
    "])\n",
    "\n",
    "\n",
    "#Pipeline de préprocessing pour les variables numériques\n",
    "numeric_features = [\"sqft_living\",\"sqft_above\", \"sqft_basement\", \"sqft_lot\", \"bathrooms\"]\n",
    "\n",
    "numeric_transformer = Pipeline([\n",
    "        ('imputer', SimpleImputer(strategy='mean')),\n",
    "        ('stdscaler', MinMaxScaler()),  # moyenne nulle et écart type = 1 -> Reg, SVM, PCA\n",
    "        ])\n",
    "\n",
    "#Pipeline de préprocessing pour les variables catégorielles\n",
    "\n",
    "categorial_features = [ \"zipcode\", \"floors\", \"view\", \"condition\", \"grade\", \"bedrooms\"]\n",
    "\n",
    "categorical_transformer = OneHotEncoder(sparse=True, handle_unknown='ignore')\n",
    "\n",
    "# a l'aide de la classe ColumnTransformer, \n",
    "# on déclare à quelles variables on applique quel transformer\n",
    "from sklearn.compose import ColumnTransformer\n",
    "preprocessor_3 = ColumnTransformer(\n",
    "    transformers=[\n",
    "         ('num', numeric_transformer, numeric_features),\n",
    "        ('cat', categorical_transformer, categorial_features),\n",
    "        ('bed', bedrooms_transformer, ['bedrooms']),\n",
    "    ], remainder=\"passthrough\"\n",
    ")\n",
    "\n",
    "\n",
    "#On obtient un pipeline de preprocessing qu'on peut utiliser dans un pipeline d'entainement\n",
    "knn = KNeighborsRegressor(**best_param_knn)\n",
    "lasso = linear_model.Lasso(**best_param_lasso)\n",
    "ridge = linear_model.Ridge(**best_param_ridge)\n",
    "\n",
    "pipe_knn = Pipeline([\n",
    "     ('prep', preprocessor_3),\n",
    "     ('knn', knn)\n",
    "])\n",
    "\n",
    "pipe_lasso = Pipeline([\n",
    "     ('prep', preprocessor_3),\n",
    "     ('lasso', lasso)\n",
    "])\n",
    "\n",
    "pipe_ridge = Pipeline([\n",
    "     ('prep', preprocessor_3),\n",
    "     ('ridge', ridge)\n",
    "])\n",
    "\n",
    "# Entrainement sur X_train\n",
    "trained_pipe_knn_3 = pipe_knn.fit(X_train,y_train)\n",
    "trained_pipe_lasso_3 = pipe_lasso.fit(X_train,y_train)\n",
    "trained_pipe_ridge_3 = pipe_ridge.fit(X_train,y_train)\n",
    "\n",
    "# scoring sur X_test\n",
    "# scoring sur X_test\n",
    "df_score.loc[3, \"knn\"] = trained_pipe_knn_3.score(X_test, y_test)\n",
    "df_score.loc[3, \"lasso\"] = trained_pipe_lasso_3.score(X_test, y_test)\n",
    "df_score.loc[3, \"ridge\"] = trained_pipe_ridge_3.score(X_test, y_test)\n",
    "\n",
    "print(df_score)"
   ]
  },
  {
   "attachments": {},
   "cell_type": "markdown",
   "metadata": {},
   "source": [
    "### Preprocessing 4 "
   ]
  },
  {
   "cell_type": "code",
   "execution_count": 35,
   "metadata": {},
   "outputs": [
    {
     "name": "stdout",
     "output_type": "stream",
     "text": [
      "        knn     lasso     ridge\n",
      "0  0.511373  0.697985  0.698023\n",
      "1  0.537581  0.841808  0.835541\n",
      "2  0.541929  0.841811  0.537308\n",
      "3  0.514192  0.841818  0.836475\n",
      "4  0.565551  0.841803  0.752097\n"
     ]
    }
   ],
   "source": [
    "from sklearn.preprocessing import FunctionTransformer\n",
    "import numpy as np\n",
    "\n",
    "# Transformer pour remplacer les valeurs extrêmes de la colonne \"bedrooms\" par une valeur max\n",
    "max_value = 11.0 \n",
    "bedrooms_transformer = Pipeline([\n",
    "     ('max_replacer', FunctionTransformer(lambda x: np.where(x > max_value, max_value, x))),\n",
    "])\n",
    "\n",
    "# Transformer pour remplacer les valeurs extrêmes de la colonne \"sqft_living\" par une valeur max\n",
    "max_value = 12500\n",
    "sqft_living_transformer = Pipeline([\n",
    "     ('max_replacer', FunctionTransformer(lambda x: np.where(x > max_value, max_value, x))),\n",
    "])\n",
    "\n",
    "\n",
    "\n",
    "#Pipeline de préprocessing pour les variables numériques\n",
    "numeric_features = [\"sqft_living\",\"sqft_above\", \"sqft_basement\", \"sqft_lot\", \"bathrooms\"]\n",
    "\n",
    "numeric_transformer = Pipeline([\n",
    "        ('imputer', SimpleImputer(strategy='mean')),\n",
    "        ('stdscaler', MinMaxScaler()),  # moyenne nulle et écart type = 1 -> Reg, SVM, PCA\n",
    "        ])\n",
    "\n",
    "#Pipeline de préprocessing pour les variables catégorielles\n",
    "\n",
    "categorial_features = [ \"zipcode\", \"floors\", \"view\", \"condition\", \"grade\", \"bedrooms\"]\n",
    "\n",
    "categorical_transformer = OneHotEncoder(sparse=True, handle_unknown='ignore')\n",
    "\n",
    "# a l'aide de la classe ColumnTransformer, \n",
    "# on déclare à quelles variables on applique quel transformer\n",
    "from sklearn.compose import ColumnTransformer\n",
    "preprocessor_4 = ColumnTransformer(\n",
    "    transformers=[\n",
    "         ('num', numeric_transformer, numeric_features),\n",
    "        ('cat', categorical_transformer, categorial_features),\n",
    "        ('bed', bedrooms_transformer, ['bedrooms']),\n",
    "        ('living', sqft_living_transformer, ['sqft_living']),\n",
    "    ], remainder=\"passthrough\"\n",
    ")\n",
    "\n",
    "\n",
    "#On obtient un pipeline de preprocessing qu'on peut utiliser dans un pipeline d'entainement\n",
    "knn = KNeighborsRegressor(**best_param_knn)\n",
    "lasso = linear_model.Lasso(**best_param_lasso)\n",
    "ridge = linear_model.Ridge(**best_param_ridge)\n",
    "\n",
    "pipe_knn = Pipeline([\n",
    "     ('prep', preprocessor_4),\n",
    "     ('knn', knn)\n",
    "])\n",
    "\n",
    "pipe_lasso = Pipeline([\n",
    "     ('prep', preprocessor_4),\n",
    "     ('lasso', lasso)\n",
    "])\n",
    "\n",
    "pipe_ridge = Pipeline([\n",
    "     ('prep', preprocessor_4),\n",
    "     ('ridge', ridge)\n",
    "])\n",
    "\n",
    "# Entrainement sur X_train\n",
    "trained_pipe_knn_4 = pipe_knn.fit(X_train,y_train)\n",
    "trained_pipe_lasso_4 = pipe_lasso.fit(X_train,y_train)\n",
    "trained_pipe_ridge_4 = pipe_ridge.fit(X_train,y_train)\n",
    "\n",
    "# scoring sur X_test\n",
    "# scoring sur X_test\n",
    "df_score.loc[4, \"knn\"] = trained_pipe_knn_4.score(X_test, y_test)\n",
    "df_score.loc[4, \"lasso\"] = trained_pipe_lasso_4.score(X_test, y_test)\n",
    "df_score.loc[4, \"ridge\"] = trained_pipe_ridge_4.score(X_test, y_test)\n",
    "\n",
    "print(df_score)"
   ]
  },
  {
   "attachments": {},
   "cell_type": "markdown",
   "metadata": {},
   "source": [
    "### Preprocessing 5"
   ]
  },
  {
   "cell_type": "code",
   "execution_count": 36,
   "metadata": {},
   "outputs": [
    {
     "name": "stdout",
     "output_type": "stream",
     "text": [
      "        knn     lasso     ridge\n",
      "0  0.511373  0.697985  0.698023\n",
      "1  0.537581  0.841808  0.835541\n",
      "2  0.541929  0.841811  0.537308\n",
      "3  0.514192  0.841818  0.836475\n",
      "4  0.565551  0.841803  0.752097\n",
      "5  0.514192  0.841818  0.836475\n"
     ]
    }
   ],
   "source": [
    "from sklearn.preprocessing import PolynomialFeatures\n",
    "from sklearn.pipeline import Pipeline\n",
    "from sklearn.compose import ColumnTransformer\n",
    "from sklearn.preprocessing import FunctionTransformer\n",
    "from sklearn.preprocessing import MinMaxScaler\n",
    "from sklearn.preprocessing import OneHotEncoder\n",
    "from sklearn.impute import SimpleImputer\n",
    "from sklearn import linear_model\n",
    "import numpy as np\n",
    "\n",
    "# Transformer pour remplacer les valeurs extrêmes de la colonne \"bedrooms\" par une valeur max\n",
    "max_value = 11.0 \n",
    "bedrooms_transformer = Pipeline([\n",
    "     ('max_replacer', FunctionTransformer(lambda x: np.where(x > max_value, max_value, x))),\n",
    "])\n",
    "\n",
    "# Pipeline de préprocessing pour les variables numériques\n",
    "numeric_features = [\"sqft_living\",\"sqft_above\", \"sqft_basement\", \"sqft_lot\", \"bathrooms\"]\n",
    "numeric_transformer = Pipeline([\n",
    "    ('imputer', SimpleImputer(strategy='mean')),\n",
    "    ('stdscaler', MinMaxScaler()),  \n",
    "])\n",
    "\n",
    "# Pipeline de préprocessing pour les variables catégorielles\n",
    "categorial_features = [\"zipcode\", \"floors\", \"view\", \"condition\", \"grade\", \"bedrooms\"]\n",
    "categorical_transformer = OneHotEncoder(sparse=True, handle_unknown='ignore')\n",
    "\n",
    "# à l'aide de la classe ColumnTransformer, \n",
    "# on déclare à quelles variables on applique quel transformer\n",
    "preprocessor_5 = ColumnTransformer(\n",
    "    transformers=[\n",
    "         ('num', numeric_transformer, numeric_features),\n",
    "         ('cat', categorical_transformer, categorial_features),\n",
    "         ('bed', bedrooms_transformer, ['bedrooms']),\n",
    "    ], \n",
    "    remainder=\"passthrough\"\n",
    ")\n",
    "\n",
    "# On obtient un pipeline de preprocessing qu'on peut utiliser dans un pipeline d'entrainement\n",
    "#On obtient un pipeline de preprocessing qu'on peut utiliser dans un pipeline d'entainement\n",
    "knn = KNeighborsRegressor(**best_param_knn)\n",
    "lasso = linear_model.Lasso(**best_param_lasso)\n",
    "ridge = linear_model.Ridge(**best_param_ridge)\n",
    "\n",
    "pipe_knn = Pipeline([\n",
    "     ('prep', preprocessor_5),\n",
    "     ('knn', knn)\n",
    "])\n",
    "\n",
    "pipe_lasso = Pipeline([\n",
    "     ('prep', preprocessor_5),\n",
    "     ('lasso', lasso)\n",
    "])\n",
    "\n",
    "pipe_ridge = Pipeline([\n",
    "     ('prep', preprocessor_5),\n",
    "     ('ridge', ridge)\n",
    "])\n",
    "\n",
    "# Entrainement sur X_train\n",
    "trained_pipe_knn_5 = pipe_knn.fit(X_train,y_train)\n",
    "trained_pipe_lasso_5 = pipe_lasso.fit(X_train,y_train)\n",
    "trained_pipe_ridge_5 = pipe_ridge.fit(X_train,y_train)\n",
    "\n",
    "# scoring sur X_test\n",
    "# scoring sur X_test\n",
    "df_score.loc[5, \"knn\"] = trained_pipe_knn_5.score(X_test, y_test)\n",
    "df_score.loc[5, \"lasso\"] = trained_pipe_lasso_5.score(X_test, y_test)\n",
    "df_score.loc[5, \"ridge\"] = trained_pipe_ridge_5.score(X_test, y_test)\n",
    "\n",
    "print(df_score)\n",
    "\n"
   ]
  },
  {
   "attachments": {},
   "cell_type": "markdown",
   "metadata": {},
   "source": [
    "### Preprocessing 6 : 2 + polynomial features"
   ]
  },
  {
   "cell_type": "code",
   "execution_count": 37,
   "metadata": {},
   "outputs": [
    {
     "name": "stdout",
     "output_type": "stream",
     "text": [
      "        knn     lasso     ridge\n",
      "0  0.511373  0.697985  0.698023\n",
      "1  0.537581  0.841808  0.835541\n",
      "2  0.541929  0.841811  0.537308\n",
      "3  0.514192  0.841818  0.836475\n",
      "4  0.565551  0.841803  0.752097\n",
      "5  0.514192  0.841818  0.836475\n",
      "6     0.511  0.879376  0.573734\n"
     ]
    }
   ],
   "source": [
    "poly = PolynomialFeatures(2)\n",
    "\n",
    "#Pipeline de préprocessing pour les variables catégorielles\n",
    "\n",
    "categorial_features = [ \"zipcode\", \"floors\", \"view\", \"condition\", \"grade\", \"bedrooms\"]\n",
    "\n",
    "categorical_transformer = OneHotEncoder(sparse=True, handle_unknown='ignore')\n",
    "\n",
    "# a l'aide de la classe ColumnTransformer, \n",
    "# on déclare à quelles variables on applique quel transformer\n",
    "from sklearn.compose import ColumnTransformer\n",
    "preprocessor_2 = ColumnTransformer(\n",
    "    transformers=[\n",
    "        ('cat', categorical_transformer, categorial_features)\n",
    "    ], remainder=\"passthrough\"\n",
    ")\n",
    "\n",
    "\n",
    "#On obtient un pipeline de preprocessing qu'on peut utiliser dans un pipeline d'entainement\n",
    "knn_6 = KNeighborsRegressor(**best_param_knn)\n",
    "lasso_6 = linear_model.Lasso(**best_param_lasso)\n",
    "ridge_6 = linear_model.Ridge(**best_param_ridge)\n",
    "\n",
    "pipe_knn_6 = Pipeline([\n",
    "     ('prep', preprocessor_2),\n",
    "     ('poly', poly),\n",
    "     ('knn', knn_2)\n",
    "])\n",
    "\n",
    "pipe_lasso_6 = Pipeline([\n",
    "     ('prep', preprocessor_2),\n",
    "     ('poly', poly),\n",
    "     ('lasso', lasso_6)\n",
    "])\n",
    "\n",
    "pipe_ridge_6 = Pipeline([\n",
    "     ('prep', preprocessor_2),\n",
    "     ('poly', poly),\n",
    "     ('ridge', ridge_6)\n",
    "])\n",
    "\n",
    "# Entrainement sur X_train\n",
    "trained_pipe_knn_6 = pipe_knn_6.fit(X_train,y_train)\n",
    "trained_pipe_lasso_6 = pipe_lasso_6.fit(X_train,y_train)\n",
    "trained_pipe_ridge_6 = pipe_ridge_6.fit(X_train,y_train)\n",
    "\n",
    "#Prediction sur X_test :\n",
    "y_pred_lasso_6 = trained_pipe_lasso_6.predict(X_test)\n",
    "\n",
    "\n",
    "# scoring sur X_test\n",
    "df_score.loc[6, \"knn\"] = trained_pipe_knn_6.score(X_test, y_test)\n",
    "df_score.loc[6, \"lasso\"] = trained_pipe_lasso_6.score(X_test, y_test)\n",
    "df_score.loc[6, \"ridge\"] = trained_pipe_ridge_6.score(X_test, y_test)\n",
    "\n",
    "print(df_score)"
   ]
  },
  {
   "attachments": {},
   "cell_type": "markdown",
   "metadata": {},
   "source": [
    "### Préprocessing 7 : 5 + polynomial features"
   ]
  },
  {
   "cell_type": "code",
   "execution_count": 38,
   "metadata": {},
   "outputs": [
    {
     "name": "stdout",
     "output_type": "stream",
     "text": [
      "        knn     lasso     ridge\n",
      "0  0.511373  0.697985  0.698023\n",
      "1  0.537581  0.841808  0.835541\n",
      "2  0.541929  0.841811  0.537308\n",
      "3  0.514192  0.841818  0.836475\n",
      "4  0.565551  0.841803  0.752097\n",
      "5  0.514192  0.841818  0.836475\n",
      "6     0.511  0.879376  0.573734\n",
      "7  0.461902  0.867943  0.839491\n"
     ]
    }
   ],
   "source": [
    "from sklearn.preprocessing import PolynomialFeatures\n",
    "from sklearn.pipeline import Pipeline\n",
    "from sklearn.compose import ColumnTransformer\n",
    "from sklearn.preprocessing import FunctionTransformer\n",
    "from sklearn.preprocessing import MinMaxScaler\n",
    "from sklearn.preprocessing import OneHotEncoder\n",
    "from sklearn.impute import SimpleImputer\n",
    "from sklearn import linear_model\n",
    "import numpy as np\n",
    "\n",
    "poly = PolynomialFeatures(2)\n",
    "\n",
    "# Transformer pour remplacer les valeurs extrêmes de la colonne \"bedrooms\" par une valeur max\n",
    "max_value = 11.0 \n",
    "bedrooms_transformer = Pipeline([\n",
    "     ('max_replacer', FunctionTransformer(lambda x: np.where(x > max_value, max_value, x))),\n",
    "])\n",
    "\n",
    "# Pipeline de préprocessing pour les variables numériques\n",
    "numeric_features = [\"sqft_living\",\"sqft_above\", \"sqft_basement\", \"sqft_lot\", \"bathrooms\"]\n",
    "numeric_transformer = Pipeline([\n",
    "    ('imputer', SimpleImputer(strategy='mean')),\n",
    "    ('stdscaler', MinMaxScaler()),  \n",
    "])\n",
    "\n",
    "# Pipeline de préprocessing pour les variables catégorielles\n",
    "categorial_features = [\"zipcode\", \"floors\", \"view\", \"condition\", \"grade\", \"bedrooms\"]\n",
    "categorical_transformer = OneHotEncoder(sparse=True, handle_unknown='ignore')\n",
    "\n",
    "# à l'aide de la classe ColumnTransformer, \n",
    "# on déclare à quelles variables on applique quel transformer\n",
    "preprocessor_5 = ColumnTransformer(\n",
    "    transformers=[\n",
    "         ('num', numeric_transformer, numeric_features),\n",
    "         ('cat', categorical_transformer, categorial_features),\n",
    "         ('bed', bedrooms_transformer, ['bedrooms']),\n",
    "    ], \n",
    "    remainder=\"passthrough\"\n",
    ")\n",
    "\n",
    "# On obtient un pipeline de preprocessing qu'on peut utiliser dans un pipeline d'entrainement\n",
    "#On obtient un pipeline de preprocessing qu'on peut utiliser dans un pipeline d'entainement\n",
    "knn = KNeighborsRegressor(**best_param_knn)\n",
    "lasso = linear_model.Lasso(**best_param_lasso)\n",
    "ridge = linear_model.Ridge(**best_param_ridge)\n",
    "\n",
    "pipe_knn = Pipeline([\n",
    "     ('prep', preprocessor_5),\n",
    "     ('poly', poly),\n",
    "     ('knn', knn)\n",
    "])\n",
    "\n",
    "pipe_lasso = Pipeline([\n",
    "     ('prep', preprocessor_5),\n",
    "     ('poly', poly),\n",
    "     ('lasso', lasso)\n",
    "])\n",
    "\n",
    "pipe_ridge = Pipeline([\n",
    "     ('prep', preprocessor_5),\n",
    "     ('poly', poly),\n",
    "     ('ridge', ridge)\n",
    "])\n",
    "\n",
    "# Entrainement sur X_train\n",
    "trained_pipe_knn_7 = pipe_knn.fit(X_train,y_train)\n",
    "trained_pipe_lasso_7 = pipe_lasso.fit(X_train,y_train)\n",
    "trained_pipe_ridge_7 = pipe_ridge.fit(X_train,y_train)\n",
    "\n",
    "# scoring sur X_test\n",
    "# scoring sur X_test\n",
    "df_score.loc[7, \"knn\"] = trained_pipe_knn_7.score(X_test, y_test)\n",
    "df_score.loc[7, \"lasso\"] = trained_pipe_lasso_7.score(X_test, y_test)\n",
    "df_score.loc[7, \"ridge\"] = trained_pipe_ridge_7.score(X_test, y_test)\n",
    "\n",
    "print(df_score)"
   ]
  },
  {
   "attachments": {},
   "cell_type": "markdown",
   "metadata": {},
   "source": [
    "### Résultats"
   ]
  },
  {
   "cell_type": "code",
   "execution_count": 39,
   "metadata": {},
   "outputs": [
    {
     "data": {
      "text/html": [
       "<style type=\"text/css\">\n",
       "#T_6c034_row4_col0, #T_6c034_row7_col2 {\n",
       "  background-color: greenyellow;\n",
       "}\n",
       "#T_6c034_row6_col1 {\n",
       "  background-color: greenyellow;\n",
       "  background-color: limegreen;\n",
       "}\n",
       "</style>\n",
       "<table id=\"T_6c034\">\n",
       "  <thead>\n",
       "    <tr>\n",
       "      <th class=\"blank level0\" >&nbsp;</th>\n",
       "      <th id=\"T_6c034_level0_col0\" class=\"col_heading level0 col0\" >knn</th>\n",
       "      <th id=\"T_6c034_level0_col1\" class=\"col_heading level0 col1\" >lasso</th>\n",
       "      <th id=\"T_6c034_level0_col2\" class=\"col_heading level0 col2\" >ridge</th>\n",
       "    </tr>\n",
       "  </thead>\n",
       "  <tbody>\n",
       "    <tr>\n",
       "      <th id=\"T_6c034_level0_row0\" class=\"row_heading level0 row0\" >0</th>\n",
       "      <td id=\"T_6c034_row0_col0\" class=\"data row0 col0\" >0.51137255</td>\n",
       "      <td id=\"T_6c034_row0_col1\" class=\"data row0 col1\" >0.69798473</td>\n",
       "      <td id=\"T_6c034_row0_col2\" class=\"data row0 col2\" >0.69802278</td>\n",
       "    </tr>\n",
       "    <tr>\n",
       "      <th id=\"T_6c034_level0_row1\" class=\"row_heading level0 row1\" >1</th>\n",
       "      <td id=\"T_6c034_row1_col0\" class=\"data row1 col0\" >0.53758146</td>\n",
       "      <td id=\"T_6c034_row1_col1\" class=\"data row1 col1\" >0.84180780</td>\n",
       "      <td id=\"T_6c034_row1_col2\" class=\"data row1 col2\" >0.83554070</td>\n",
       "    </tr>\n",
       "    <tr>\n",
       "      <th id=\"T_6c034_level0_row2\" class=\"row_heading level0 row2\" >2</th>\n",
       "      <td id=\"T_6c034_row2_col0\" class=\"data row2 col0\" >0.54192935</td>\n",
       "      <td id=\"T_6c034_row2_col1\" class=\"data row2 col1\" >0.84181092</td>\n",
       "      <td id=\"T_6c034_row2_col2\" class=\"data row2 col2\" >0.53730847</td>\n",
       "    </tr>\n",
       "    <tr>\n",
       "      <th id=\"T_6c034_level0_row3\" class=\"row_heading level0 row3\" >3</th>\n",
       "      <td id=\"T_6c034_row3_col0\" class=\"data row3 col0\" >0.51419181</td>\n",
       "      <td id=\"T_6c034_row3_col1\" class=\"data row3 col1\" >0.84181804</td>\n",
       "      <td id=\"T_6c034_row3_col2\" class=\"data row3 col2\" >0.83647485</td>\n",
       "    </tr>\n",
       "    <tr>\n",
       "      <th id=\"T_6c034_level0_row4\" class=\"row_heading level0 row4\" >4</th>\n",
       "      <td id=\"T_6c034_row4_col0\" class=\"data row4 col0\" >0.56555132</td>\n",
       "      <td id=\"T_6c034_row4_col1\" class=\"data row4 col1\" >0.84180317</td>\n",
       "      <td id=\"T_6c034_row4_col2\" class=\"data row4 col2\" >0.75209657</td>\n",
       "    </tr>\n",
       "    <tr>\n",
       "      <th id=\"T_6c034_level0_row5\" class=\"row_heading level0 row5\" >5</th>\n",
       "      <td id=\"T_6c034_row5_col0\" class=\"data row5 col0\" >0.51419181</td>\n",
       "      <td id=\"T_6c034_row5_col1\" class=\"data row5 col1\" >0.84181804</td>\n",
       "      <td id=\"T_6c034_row5_col2\" class=\"data row5 col2\" >0.83647485</td>\n",
       "    </tr>\n",
       "    <tr>\n",
       "      <th id=\"T_6c034_level0_row6\" class=\"row_heading level0 row6\" >6</th>\n",
       "      <td id=\"T_6c034_row6_col0\" class=\"data row6 col0\" >0.51100047</td>\n",
       "      <td id=\"T_6c034_row6_col1\" class=\"data row6 col1\" >0.87937633</td>\n",
       "      <td id=\"T_6c034_row6_col2\" class=\"data row6 col2\" >0.57373429</td>\n",
       "    </tr>\n",
       "    <tr>\n",
       "      <th id=\"T_6c034_level0_row7\" class=\"row_heading level0 row7\" >7</th>\n",
       "      <td id=\"T_6c034_row7_col0\" class=\"data row7 col0\" >0.46190184</td>\n",
       "      <td id=\"T_6c034_row7_col1\" class=\"data row7 col1\" >0.86794255</td>\n",
       "      <td id=\"T_6c034_row7_col2\" class=\"data row7 col2\" >0.83949081</td>\n",
       "    </tr>\n",
       "  </tbody>\n",
       "</table>\n"
      ],
      "text/plain": [
       "<pandas.io.formats.style.Styler at 0x7f0d98015000>"
      ]
     },
     "metadata": {},
     "output_type": "display_data"
    }
   ],
   "source": [
    "def highlight_max(s):\n",
    "    is_max = s == s.max()\n",
    "    return ['background-color: greenyellow' if v else '' for v in is_max]\n",
    "\n",
    "# Définir une fonction pour mettre en valeur la cellule maximale\n",
    "def highlight_max_max(val):\n",
    "    return 'background-color: limegreen' if val == max_value else ''\n",
    "\n",
    "# Trouver la valeur maximale pour tout le DataFrame\n",
    "max_value = df_score.values.max()\n",
    "\n",
    "# Appliquer les deux fonctions au DataFrame\n",
    "styled_df = df_score.style.format(\"{:.8f}\").apply(highlight_max).applymap(highlight_max_max)\n",
    "\n",
    "# Afficher le DataFrame mis en forme\n",
    "display(styled_df)\n",
    "\n",
    "## Result\n",
    "#  \tknn\tlasso\tridge\n",
    "# 0\t0.51137255\t0.69798473\t0.69802278\n",
    "# 1\t0.53758146\t0.84180780\t0.83554070\n",
    "# 2\t0.54192935\t0.84181092\t0.53730847\n",
    "# 3\t0.51419181\t0.84181804\t0.83647485\n",
    "# 4\t0.56555132\t0.84180317\t0.75209657\n",
    "# 5\t0.51419181\t0.84181804\t0.83647485\n",
    "# 6\t0.51100047\t0.87937633\t0.57373429\n",
    "# 7\t0.46190184\t0.86794255\t0.83949081"
   ]
  },
  {
   "cell_type": "code",
   "execution_count": null,
   "metadata": {},
   "outputs": [],
   "source": [
    "## En conservant sqft_leaving15 et sqft_lot15 :\n",
    "#  \t    knn\t       lasso\t  ridge\n",
    "# 0\t0.51137255\t0.69798473\t0.69802278\n",
    "# 1\t0.38188135\t0.84196238\t0.36449355\n",
    "# 2\t0.52267104\t0.84197975\t0.54692338\n",
    "# 3\t0.38209044\t0.84197613\t0.36450665\n",
    "# 4\t0.56622749\t0.84196596\t0.54654374\n",
    "# 5\t0.38209044\t0.84197613\t0.36450665\n",
    "# 6\t0.47502985\t0.87321436\t0.58771407\n",
    "# 7\t0.36870335\t0.88325673\t0.36938396"
   ]
  },
  {
   "cell_type": "code",
   "execution_count": 42,
   "metadata": {},
   "outputs": [
    {
     "data": {
      "text/plain": [
       "['./../saved_models/trained_pipe_bis.joblib']"
      ]
     },
     "execution_count": 42,
     "metadata": {},
     "output_type": "execute_result"
    }
   ],
   "source": [
    "joblib.dump(trained_pipe_lasso_6, \"./../saved_models/trained_pipe_bis.joblib\", compress=True)"
   ]
  },
  {
   "cell_type": "code",
   "execution_count": 46,
   "metadata": {},
   "outputs": [
    {
     "name": "stderr",
     "output_type": "stream",
     "text": [
      "No artists with labels found to put in legend.  Note that artists whose label start with an underscore are ignored when legend() is called with no argument.\n"
     ]
    },
    {
     "data": {
      "text/plain": [
       "<matplotlib.legend.Legend at 0x7f0d698c7850>"
      ]
     },
     "execution_count": 46,
     "metadata": {},
     "output_type": "execute_result"
    },
    {
     "data": {
      "image/png": "[encoded data removed]",
      "text/plain": [
       "<Figure size 640x480 with 1 Axes>"
      ]
     },
     "metadata": {},
     "output_type": "display_data"
    }
   ],
   "source": [
    "import matplotlib.pyplot as plt\n",
    "\n",
    "# Prédiction des prix pour les données de test\n",
    "y_pred = trained_pipe_lasso_7.predict(X_test)\n",
    "\n",
    "# Tracé du graphique\n",
    "plt.scatter(y_pred, y_test, color='black')\n",
    "\n",
    "plt.title(\"Prix prédit en fonction du prix réel\")\n",
    "plt.xlabel(\"Prix prédit\")\n",
    "plt.ylabel(\"Prix réel\")\n",
    "plt.legend()\n"
   ]
  }
 ],
 "metadata": {
  "kernelspec": {
   "display_name": "machine_learning",
   "language": "python",
   "name": "python3"
  },
  "language_info": {
   "codemirror_mode": {
    "name": "ipython",
    "version": 3
   },
   "file_extension": ".py",
   "mimetype": "text/x-python",
   "name": "python",
   "nbconvert_exporter": "python",
   "pygments_lexer": "ipython3",
   "version": "3.10.9"
  },
  "orig_nbformat": 4,
  "vscode": {
   "interpreter": {
    "hash": "6372ac1f96e6a574de8fb7db2482e4b51a9c7365ff441969ce58324c2dcfaf16"
   }
  }
 },
 "nbformat": 4,
 "nbformat_minor": 2
}
